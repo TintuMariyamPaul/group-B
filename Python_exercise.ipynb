{
  "nbformat": 4,
  "nbformat_minor": 0,
  "metadata": {
    "colab": {
      "provenance": [],
      "authorship_tag": "ABX9TyO6BVt30ajl7PO20zQU87wt",
      "include_colab_link": true
    },
    "kernelspec": {
      "name": "python3",
      "display_name": "Python 3"
    },
    "language_info": {
      "name": "python"
    }
  },
  "cells": [
    {
      "cell_type": "markdown",
      "metadata": {
        "id": "view-in-github",
        "colab_type": "text"
      },
      "source": [
        "<a href=\"https://colab.research.google.com/github/TintuMariyamPaul/group-B/blob/main/Python_exercise.ipynb\" target=\"_parent\"><img src=\"https://colab.research.google.com/assets/colab-badge.svg\" alt=\"Open In Colab\"/></a>"
      ]
    },
    {
      "cell_type": "code",
      "source": [
        "a = \"Hello world\"\n",
        "print(a)"
      ],
      "metadata": {
        "colab": {
          "base_uri": "https://localhost:8080/"
        },
        "id": "mEb9qoVnkbro",
        "outputId": "417ac7c3-cb86-4d03-d44b-fa417c8412b8"
      },
      "execution_count": null,
      "outputs": [
        {
          "output_type": "stream",
          "name": "stdout",
          "text": [
            "Hello world\n"
          ]
        }
      ]
    },
    {
      "cell_type": "code",
      "source": [
        "n = [\"red\",\"blue\",\"green\"]\n",
        "x = n[0]\n",
        "print(x)\n",
        "k = len(n)\n",
        "print(k)"
      ],
      "metadata": {
        "colab": {
          "base_uri": "https://localhost:8080/"
        },
        "id": "x9-QcemAprYz",
        "outputId": "4bfbbc80-fcbf-435b-e506-3cf996a8db60"
      },
      "execution_count": null,
      "outputs": [
        {
          "output_type": "stream",
          "name": "stdout",
          "text": [
            "red\n",
            "3\n"
          ]
        }
      ]
    },
    {
      "cell_type": "code",
      "source": [
        "def my_function():\n",
        "  print(\"Hello from a function\")\n",
        "my_function()"
      ],
      "metadata": {
        "colab": {
          "base_uri": "https://localhost:8080/"
        },
        "id": "a8KJ7CVasT6d",
        "outputId": "9d725be9-c88a-4581-f5f4-19111d6e8631"
      },
      "execution_count": null,
      "outputs": [
        {
          "output_type": "stream",
          "name": "stdout",
          "text": [
            "Hello from a function\n"
          ]
        }
      ]
    },
    {
      "cell_type": "code",
      "source": [
        "limit= 1000\n",
        "a = 3\n",
        "b = 5\n",
        "\n",
        "def sumofMultiples(limit,a,b):\n",
        "  sum =0\n",
        "\n",
        "  for n in range(limit):\n",
        "    if n%a == 0 or n%b == 0:\n",
        "      sum += n\n",
        "  return sum\n",
        "\n",
        "result = sumofMultiples(limit,a,b)\n",
        "print(\"sum of multiples of 3 or 5 below 1000 is\", result)"
      ],
      "metadata": {
        "colab": {
          "base_uri": "https://localhost:8080/"
        },
        "id": "EuGGsAYekncc",
        "outputId": "4b17e935-8910-4a3e-b7d4-025a53e9fb28"
      },
      "execution_count": null,
      "outputs": [
        {
          "output_type": "stream",
          "name": "stdout",
          "text": [
            "sum of multiples of 3 or 5 below 1000 is 233168\n"
          ]
        }
      ]
    }
  ]
}
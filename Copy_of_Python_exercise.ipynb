{
  "nbformat": 4,
  "nbformat_minor": 0,
  "metadata": {
    "colab": {
      "provenance": [],
      "authorship_tag": "ABX9TyNekmAs2/b9ptN50UHR3tRM",
      "include_colab_link": true
    },
    "kernelspec": {
      "name": "python3",
      "display_name": "Python 3"
    },
    "language_info": {
      "name": "python"
    }
  },
  "cells": [
    {
      "cell_type": "markdown",
      "metadata": {
        "id": "view-in-github",
        "colab_type": "text"
      },
      "source": [
        "<a href=\"https://colab.research.google.com/github/TintuMariyamPaul/group-B/blob/main/Copy_of_Python_exercise.ipynb\" target=\"_parent\"><img src=\"https://colab.research.google.com/assets/colab-badge.svg\" alt=\"Open In Colab\"/></a>"
      ]
    },
    {
      "cell_type": "code",
      "source": [
        "a = \"Hello world\"\n",
        "print(a)"
      ],
      "metadata": {
        "colab": {
          "base_uri": "https://localhost:8080/"
        },
        "id": "mEb9qoVnkbro",
        "outputId": "417ac7c3-cb86-4d03-d44b-fa417c8412b8"
      },
      "execution_count": null,
      "outputs": [
        {
          "output_type": "stream",
          "name": "stdout",
          "text": [
            "Hello world\n"
          ]
        }
      ]
    },
    {
      "cell_type": "code",
      "source": [
        "n = [\"red\",\"blue\",\"green\"]\n",
        "x = n[0]\n",
        "print(x)\n",
        "k = len(n)\n",
        "print(k)"
      ],
      "metadata": {
        "colab": {
          "base_uri": "https://localhost:8080/"
        },
        "id": "x9-QcemAprYz",
        "outputId": "4bfbbc80-fcbf-435b-e506-3cf996a8db60"
      },
      "execution_count": null,
      "outputs": [
        {
          "output_type": "stream",
          "name": "stdout",
          "text": [
            "red\n",
            "3\n"
          ]
        }
      ]
    },
    {
      "cell_type": "code",
      "source": [
        "def my_function():\n",
        "  print(\"Hello from a function\")\n",
        "my_function()"
      ],
      "metadata": {
        "colab": {
          "base_uri": "https://localhost:8080/"
        },
        "id": "a8KJ7CVasT6d",
        "outputId": "9d725be9-c88a-4581-f5f4-19111d6e8631"
      },
      "execution_count": null,
      "outputs": [
        {
          "output_type": "stream",
          "name": "stdout",
          "text": [
            "Hello from a function\n"
          ]
        }
      ]
    },
    {
      "cell_type": "code",
      "source": [
        "limit= 1000\n",
        "a = 3\n",
        "b = 5\n",
        "\n",
        "def sumofMultiples(limit,a,b):\n",
        "  sum =0\n",
        "\n",
        "  for n in range(limit):\n",
        "    if n%a == 0 or n%b == 0:\n",
        "      sum += n\n",
        "  return sum\n",
        "\n",
        "result = sumofMultiples(limit,a,b)\n",
        "print(\"sum of multiples of 3 or 5 below 1000 is\", result)"
      ],
      "metadata": {
        "colab": {
          "base_uri": "https://localhost:8080/"
        },
        "id": "EuGGsAYekncc",
        "outputId": "4b17e935-8910-4a3e-b7d4-025a53e9fb28"
      },
      "execution_count": null,
      "outputs": [
        {
          "output_type": "stream",
          "name": "stdout",
          "text": [
            "sum of multiples of 3 or 5 below 1000 is 233168\n"
          ]
        }
      ]
    },
    {
      "cell_type": "code",
      "source": [
        "#Create a class Account to manage a bank account.\n",
        "#Provide a hidden balance variable\n",
        "#Provide methods lodge, withdraw, getBalancev\n",
        "\n",
        "\n",
        "class BankAccount:\n",
        "  def __init__(self):\n",
        "    self._balance = 0.0\n",
        "\n",
        "  def get_balance(self):\n",
        "    return self._balance\n",
        "\n",
        "  def lodge(self,amount):\n",
        "    if amount > 0:\n",
        "       self._balance += amount\n",
        "       print(\"balance after lodge:\", self._balance)\n",
        "    else:\n",
        "      print(\"amount to lodge is positive\")\n",
        "\n",
        "  def withdraw(self,amount):\n",
        "    if amount > 0:\n",
        "      if self._balance >= amount:\n",
        "        self._balance -= amount\n",
        "        print(\"Balance after withdraw:\", self._balance)\n",
        "      else:\n",
        "        print(\"Insufficient balance\")\n",
        "    else:\n",
        "      print(\"amount to withdraw is positive\")\n",
        "\n",
        "import unittest\n",
        "\n",
        "from bank_account import BankAccount\n",
        "\n",
        "class TestBankAccount(unittest.TestCase):\n",
        "  def setup(self):\n",
        "    self.account = BankAccount()\n",
        "\n",
        "  def test_initial_balance(self):\n",
        "    self.assertEqual(self.account.get_balance(),0.0)\n",
        "\n",
        "  def test_lodge(self):\n",
        "    self.account.lodge(100.0)\n",
        "    self.assertEqual(self.account.get_balance(),100.0)\n",
        "\n",
        "  def test_withdraw(self):\n",
        "    self.account.withdraw(50.0)\n",
        "    self.assertEqual(self.account.get_balance(),-50.0)\n",
        "\n",
        "  def test_withdraw_negative(self):\n",
        "    with self.assertRaises(ValueError):\n",
        "      self.account.withdraw(-50.0)\n",
        "\n",
        "  def test_lodge_negative(self):\n",
        "    with self.assertRaises(ValueError):\n",
        "      self.account.lodge(-50.0)\n",
        "\n",
        "  def test_withdraw_sufficient_balance(self):\n",
        "    self.account.lodge(100.0)\n",
        "    self.account.withdraw(50.0)\n",
        "    self.assertEqual(self.account.get_balance(),50.0)\n",
        "\n",
        "  def test_withdraw_insufficient_balance(self):\n",
        "    with self.assertRaises(ValueError):\n",
        "      self.account.withdraw(100.0)\n",
        "\n",
        "  def test_withdraw_negative_amount(self):\n",
        "    with self.assertRaises(ValueError):\n",
        "      self.account.withdraw(-50.0)\n",
        "\n",
        "if __name__ == '__main__':\n",
        "  unittest.main()\n",
        "\n",
        "\n",
        "\n",
        "\n"
      ],
      "metadata": {
        "id": "6iGzpgHodkyB",
        "outputId": "cd21b1da-06ef-4193-cb61-4884379df737",
        "colab": {
          "base_uri": "https://localhost:8080/",
          "height": 399
        }
      },
      "execution_count": null,
      "outputs": [
        {
          "output_type": "error",
          "ename": "ModuleNotFoundError",
          "evalue": "No module named 'bank_account'",
          "traceback": [
            "\u001b[0;31m---------------------------------------------------------------------------\u001b[0m",
            "\u001b[0;31mModuleNotFoundError\u001b[0m                       Traceback (most recent call last)",
            "\u001b[0;32m<ipython-input-11-6d7c01a152dc>\u001b[0m in \u001b[0;36m<cell line: 32>\u001b[0;34m()\u001b[0m\n\u001b[1;32m     30\u001b[0m \u001b[0;32mimport\u001b[0m \u001b[0munittest\u001b[0m\u001b[0;34m\u001b[0m\u001b[0;34m\u001b[0m\u001b[0m\n\u001b[1;32m     31\u001b[0m \u001b[0;34m\u001b[0m\u001b[0m\n\u001b[0;32m---> 32\u001b[0;31m \u001b[0;32mfrom\u001b[0m \u001b[0mbank_account\u001b[0m \u001b[0;32mimport\u001b[0m \u001b[0mBankAccount\u001b[0m\u001b[0;34m\u001b[0m\u001b[0;34m\u001b[0m\u001b[0m\n\u001b[0m\u001b[1;32m     33\u001b[0m \u001b[0;34m\u001b[0m\u001b[0m\n\u001b[1;32m     34\u001b[0m \u001b[0;32mclass\u001b[0m \u001b[0mTestBankAccount\u001b[0m\u001b[0;34m(\u001b[0m\u001b[0munittest\u001b[0m\u001b[0;34m.\u001b[0m\u001b[0mTestCase\u001b[0m\u001b[0;34m)\u001b[0m\u001b[0;34m:\u001b[0m\u001b[0;34m\u001b[0m\u001b[0;34m\u001b[0m\u001b[0m\n",
            "\u001b[0;31mModuleNotFoundError\u001b[0m: No module named 'bank_account'",
            "",
            "\u001b[0;31m---------------------------------------------------------------------------\u001b[0;32m\nNOTE: If your import is failing due to a missing package, you can\nmanually install dependencies using either !pip or !apt.\n\nTo view examples of installing some common dependencies, click the\n\"Open Examples\" button below.\n\u001b[0;31m---------------------------------------------------------------------------\u001b[0m\n"
          ],
          "errorDetails": {
            "actions": [
              {
                "action": "open_url",
                "actionText": "Open Examples",
                "url": "/notebooks/snippets/importing_libraries.ipynb"
              }
            ]
          }
        }
      ]
    },
    {
      "cell_type": "code",
      "source": [
        "import unittest\n",
        "\n",
        "from bank_account import BankAccount\n",
        "\n",
        "class TestBankAccount(unittest.TestCase):\n",
        "  def setup(self):\n",
        "    self.account = BankAccount()\n",
        "\n",
        "  def test_initial_balance(self):\n",
        "    self.assertEqual(self.account.get_balance(),0.0)\n",
        "\n",
        "  def test_lodge(self):\n",
        "    self.account.lodge(100.0)\n",
        "    self.assertEqual(self.account.get_balance(),100.0)\n",
        "\n",
        "  def test_withdraw(self):\n",
        "    self.account.withdraw(50.0)\n",
        "    self.assertEqual(self.account.get_balance(),-50.0)\n",
        "\n",
        "  def test_withdraw_negative(self):\n",
        "    with self.assertRaises(ValueError):\n",
        "      self.account.withdraw(-50.0)\n",
        "\n",
        "  def test_lodge_negative(self):\n",
        "    with self.assertRaises(ValueError):\n",
        "      self.account.lodge(-50.0)\n",
        "\n",
        "  def test_withdraw_sufficient_balance(self):\n",
        "    self.account.lodge(100.0)\n",
        "    self.account.withdraw(50.0)\n",
        "    self.assertEqual(self.account.get_balance(),50.0)\n",
        "\n",
        "  def test_withdraw_insufficient_balance(self):\n",
        "    with self.assertRaises(ValueError):\n",
        "      self.account.withdraw(100.0)\n",
        "\n",
        "  def test_withdraw_negative_amount(self):\n",
        "    with self.assertRaises(ValueError):\n",
        "      self.account.withdraw(-50.0)\n",
        "\n",
        "if __name__ == '__main__':\n",
        "  unittest.main()\n",
        "\n"
      ],
      "metadata": {
        "id": "zgb_ZHnQiYrN",
        "outputId": "bef5250a-abeb-4755-907b-56ee1ebb24db",
        "colab": {
          "base_uri": "https://localhost:8080/",
          "height": 399
        }
      },
      "execution_count": null,
      "outputs": [
        {
          "output_type": "error",
          "ename": "ModuleNotFoundError",
          "evalue": "No module named 'bank_account'",
          "traceback": [
            "\u001b[0;31m---------------------------------------------------------------------------\u001b[0m",
            "\u001b[0;31mModuleNotFoundError\u001b[0m                       Traceback (most recent call last)",
            "\u001b[0;32m<ipython-input-10-e62f2e1a4ac8>\u001b[0m in \u001b[0;36m<cell line: 3>\u001b[0;34m()\u001b[0m\n\u001b[1;32m      1\u001b[0m \u001b[0;32mimport\u001b[0m \u001b[0munittest\u001b[0m\u001b[0;34m\u001b[0m\u001b[0;34m\u001b[0m\u001b[0m\n\u001b[1;32m      2\u001b[0m \u001b[0;34m\u001b[0m\u001b[0m\n\u001b[0;32m----> 3\u001b[0;31m \u001b[0;32mfrom\u001b[0m \u001b[0mbank_account\u001b[0m \u001b[0;32mimport\u001b[0m \u001b[0mBankAccount\u001b[0m\u001b[0;34m\u001b[0m\u001b[0;34m\u001b[0m\u001b[0m\n\u001b[0m\u001b[1;32m      4\u001b[0m \u001b[0;34m\u001b[0m\u001b[0m\n\u001b[1;32m      5\u001b[0m \u001b[0;32mclass\u001b[0m \u001b[0mTestBankAccount\u001b[0m\u001b[0;34m(\u001b[0m\u001b[0munittest\u001b[0m\u001b[0;34m.\u001b[0m\u001b[0mTestCase\u001b[0m\u001b[0;34m)\u001b[0m\u001b[0;34m:\u001b[0m\u001b[0;34m\u001b[0m\u001b[0;34m\u001b[0m\u001b[0m\n",
            "\u001b[0;31mModuleNotFoundError\u001b[0m: No module named 'bank_account'",
            "",
            "\u001b[0;31m---------------------------------------------------------------------------\u001b[0;32m\nNOTE: If your import is failing due to a missing package, you can\nmanually install dependencies using either !pip or !apt.\n\nTo view examples of installing some common dependencies, click the\n\"Open Examples\" button below.\n\u001b[0;31m---------------------------------------------------------------------------\u001b[0m\n"
          ],
          "errorDetails": {
            "actions": [
              {
                "action": "open_url",
                "actionText": "Open Examples",
                "url": "/notebooks/snippets/importing_libraries.ipynb"
              }
            ]
          }
        }
      ]
    }
  ]
}
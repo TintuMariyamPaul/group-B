{
  "nbformat": 4,
  "nbformat_minor": 0,
  "metadata": {
    "colab": {
      "provenance": [],
      "authorship_tag": "ABX9TyP4dbUqvOka9BVe3hIJj+QB",
      "include_colab_link": true
    },
    "kernelspec": {
      "name": "python3",
      "display_name": "Python 3"
    },
    "language_info": {
      "name": "python"
    }
  },
  "cells": [
    {
      "cell_type": "markdown",
      "metadata": {
        "id": "view-in-github",
        "colab_type": "text"
      },
      "source": [
        "<a href=\"https://colab.research.google.com/github/TintuMariyamPaul/group-B/blob/main/Copy_of_Python_exercise.ipynb\" target=\"_parent\"><img src=\"https://colab.research.google.com/assets/colab-badge.svg\" alt=\"Open In Colab\"/></a>"
      ]
    },
    {
      "cell_type": "code",
      "source": [
        "a = \"Hello world\"\n",
        "print(a)"
      ],
      "metadata": {
        "colab": {
          "base_uri": "https://localhost:8080/"
        },
        "id": "mEb9qoVnkbro",
        "outputId": "417ac7c3-cb86-4d03-d44b-fa417c8412b8"
      },
      "execution_count": null,
      "outputs": [
        {
          "output_type": "stream",
          "name": "stdout",
          "text": [
            "Hello world\n"
          ]
        }
      ]
    },
    {
      "cell_type": "code",
      "source": [
        "n = [\"red\",\"blue\",\"green\"]\n",
        "x = n[0]\n",
        "print(x)\n",
        "k = len(n)\n",
        "print(k)"
      ],
      "metadata": {
        "colab": {
          "base_uri": "https://localhost:8080/"
        },
        "id": "x9-QcemAprYz",
        "outputId": "4bfbbc80-fcbf-435b-e506-3cf996a8db60"
      },
      "execution_count": null,
      "outputs": [
        {
          "output_type": "stream",
          "name": "stdout",
          "text": [
            "red\n",
            "3\n"
          ]
        }
      ]
    },
    {
      "cell_type": "code",
      "source": [
        "def my_function():\n",
        "  print(\"Hello from a function\")\n",
        "my_function()"
      ],
      "metadata": {
        "colab": {
          "base_uri": "https://localhost:8080/"
        },
        "id": "a8KJ7CVasT6d",
        "outputId": "9d725be9-c88a-4581-f5f4-19111d6e8631"
      },
      "execution_count": null,
      "outputs": [
        {
          "output_type": "stream",
          "name": "stdout",
          "text": [
            "Hello from a function\n"
          ]
        }
      ]
    },
    {
      "cell_type": "code",
      "source": [
        "limit= 1000\n",
        "a = 3\n",
        "b = 5\n",
        "\n",
        "def sumofMultiples(limit,a,b):\n",
        "  sum =0\n",
        "\n",
        "  for n in range(limit):\n",
        "    if n%a == 0 or n%b == 0:\n",
        "      sum += n\n",
        "  return sum\n",
        "\n",
        "result = sumofMultiples(limit,a,b)\n",
        "print(\"sum of multiples of 3 or 5 below 1000 is\", result)"
      ],
      "metadata": {
        "colab": {
          "base_uri": "https://localhost:8080/"
        },
        "id": "EuGGsAYekncc",
        "outputId": "4b17e935-8910-4a3e-b7d4-025a53e9fb28"
      },
      "execution_count": null,
      "outputs": [
        {
          "output_type": "stream",
          "name": "stdout",
          "text": [
            "sum of multiples of 3 or 5 below 1000 is 233168\n"
          ]
        }
      ]
    },
    {
      "cell_type": "code",
      "source": [
        "#Create a class Account to manage a bank account.\n",
        "#Provide a hidden balance variable\n",
        "#Provide methods lodge, withdraw, getBalancev\n",
        "\n",
        "\n",
        "class BankAccount:\n",
        "  def __init__(self):\n",
        "    self._balance = 0.0\n",
        "\n",
        "  def get_balance(self):\n",
        "    return self._balance\n",
        "\n",
        "  def lodge(self,amount):\n",
        "    if amount > 0:\n",
        "       self._balance += amount\n",
        "       print(\"balance after lodge:\", self._balance)\n",
        "    else:\n",
        "      print(\"amount to lodge is positive\")\n",
        "\n",
        "  def withdraw(self,amount):\n",
        "    if amount > 0:\n",
        "      if self._balance >= amount:\n",
        "        self._balance -= amount\n",
        "        print(\"Balance after withdraw:\", self._balance)\n",
        "      else:\n",
        "        print(\"Insufficient balance\")\n",
        "    else:\n",
        "      print(\"amount to withdraw is positive\")\n",
        "\n",
        "get_bal = BankAccount()\n",
        "get_bal.lodge(100.0)\n",
        "get_bal.withdraw(50.0)\n"
      ],
      "metadata": {
        "id": "6iGzpgHodkyB",
        "outputId": "ef6eafad-7b6f-4b3d-9ec2-53492e0deec2",
        "colab": {
          "base_uri": "https://localhost:8080/"
        }
      },
      "execution_count": null,
      "outputs": [
        {
          "output_type": "stream",
          "name": "stdout",
          "text": [
            "balance after lodge: 100.0\n",
            "Balance after withdraw: 50.0\n"
          ]
        }
      ]
    },
    {
      "cell_type": "code",
      "source": [
        "import unittest\n"
      ],
      "metadata": {
        "id": "zgb_ZHnQiYrN"
      },
      "execution_count": null,
      "outputs": []
    },
    {
      "cell_type": "code",
      "source": [
        "import unittest\n",
        "class TestBankAccount(unittest.TestCase):\n",
        "  def setup(self):\n",
        "    self.account = BankAccount()\n",
        "\n",
        "  def test_initial_balance(self):\n",
        "    self.assertEqual(self.account.get_balance(),0.0)\n",
        "\n",
        "  def test_lodge(self):\n",
        "    self.account.lodge(100.0)\n",
        "    self.assertEqual(self.account.get_balance(),100.0)\n",
        "\n",
        "  def test_withdraw(self):\n",
        "    self.account.withdraw(50.0)\n",
        "    self.assertEqual(self.account.get_balance(),-50.0)\n",
        "\n",
        "  def test_withdraw_negative(self):\n",
        "    with self.assertRaises(ValueError):\n",
        "      self.account.withdraw(-50.0)\n",
        "\n",
        "  def test_lodge_negative(self):\n",
        "    with self.assertRaises(ValueError):\n",
        "      self.account.lodge(-50.0)\n",
        "\n",
        "  def test_withdraw_sufficient_balance(self):\n",
        "    self.account.lodge(100.0)\n",
        "    self.account.withdraw(50.0)\n",
        "    self.assertEqual(self.account.get_balance(),50.0)\n",
        "\n",
        "  def test_withdraw_insufficient_balance(self):\n",
        "    with self.assertRaises(ValueError):\n",
        "      self.account.withdraw(100.0)\n",
        "\n",
        "  def test_withdraw_negative_amount(self):\n",
        "    with self.assertRaises(ValueError):\n",
        "      self.account.withdraw(-50.0)\n"
      ],
      "metadata": {
        "id": "fUMeAH9VkZpT"
      },
      "execution_count": null,
      "outputs": []
    },
    {
      "cell_type": "code",
      "source": [
        "#dictionary exercise:\n",
        "#Create a function to compute the cost of a basket:dict(id:string->quantity:int) given a\n",
        "# pricelist:dict(id:string->price:float)\n",
        "\n",
        "basket={'bread':1,'milk':2,'cheese':1}\n",
        "pricelist={'bread':1.49,'milk':1.05,'orange':0.49,'cheese':2.99}\n",
        "def cost_of_basket(basket,pricelist):\n",
        "  total_cost= 0\n",
        "  for item,quantity in basket.items():\n",
        "    if item in pricelist:\n",
        "      total_cost += pricelist[item]*quantity\n",
        "  return total_cost\n",
        "print(cost_of_basket(basket,pricelist))\n",
        "\n",
        "\n"
      ],
      "metadata": {
        "colab": {
          "base_uri": "https://localhost:8080/"
        },
        "id": "lbEzGPtJ2gLi",
        "outputId": "ebec0658-2c2c-475e-ea79-749817d86c78"
      },
      "execution_count": null,
      "outputs": [
        {
          "output_type": "stream",
          "name": "stdout",
          "text": [
            "6.09\n"
          ]
        }
      ]
    },
    {
      "cell_type": "code",
      "source": [
        "# file Program\n",
        "f = open"
      ],
      "metadata": {
        "id": "JprzXfUC4AHI"
      },
      "execution_count": null,
      "outputs": []
    }
  ]
}